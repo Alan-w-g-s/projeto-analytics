{
  "cells": [
    {
      "cell_type": "markdown",
      "metadata": {},
      "source": [
        "# Projeto Analytics de Tráfego Pago e Logística\n",
        "\n",
        "Este notebook demonstra análises fictícias de campanhas de tráfego pago e processos logísticos.\n"
      ]
    },
    {
      "cell_type": "code",
      "execution_count": null,
      "metadata": {},
      "outputs": [],
      "source": [
        "import pandas as pd\n",
        "import matplotlib.pyplot as plt\n",
        "\n",
        "# Carregar dados de exemplo\n",
        "df = pd.read_excel('dados_projeto.xlsx')\n",
        "df"
      ]
    },
    {
      "cell_type": "code",
      "execution_count": null,
      "metadata": {},
      "outputs": [],
      "source": [
        "# Calcular ROI\n",
        "df['ROI (%)'] = (df['Conversões'] / df['Investimento (R$)']) * 100\n",
        "df[['Campanha', 'ROI (%)']]"
      ]
    },
    {
      "cell_type": "code",
      "execution_count": null,
      "metadata": {},
      "outputs": [],
      "source": [
        "# Gráfico de ROI\n",
        "plt.bar(df['Campanha'], df['ROI (%)'])\n",
        "plt.title('ROI por Campanha')\n",
        "plt.ylabel('ROI (%)')\n",
        "plt.xticks(rotation=30)\n",
        "plt.show()"
      ]
    }
  ],
  "metadata": {
    "kernelspec": {
      "display_name": "Python 3",
      "language": "python",
      "name": "python3"
    },
    "language_info": {
      "name": "python",
      "version": "3.11"
    }
  },
  "nbformat": 4,
  "nbformat_minor": 5
}